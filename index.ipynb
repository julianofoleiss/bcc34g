{
 "cells": [
  {
   "cell_type": "markdown",
   "metadata": {},
   "source": [
    "# O céu é o limite!\n",
    "<hr style=\"border-top-width: 4px; border-top-color: #34609b;\">"
   ]
  },
  {
   "cell_type": "code",
   "execution_count": 1,
   "metadata": {
    "collapsed": false
   },
   "outputs": [
    {
     "name": "stdout",
     "output_type": "stream",
     "text": [
      "(std::unordered_map<std::string, V> &) { \"ROOTBooks\" => { \"are\", \"powerful\" }, \"ROOT\" => { \"is\", \"fun\" } }\n"
     ]
    }
   ],
   "source": [
    "using V = std::vector<std::string>;\n",
    "std::unordered_map<std::string, V> m {{\"ROOT\", {\"is\", \"fun\"}}, {\"ROOTBooks\", {\"are\", \"powerful\"}}};\n",
    "m"
   ]
  },
  {
   "cell_type": "code",
   "execution_count": 2,
   "metadata": {
    "collapsed": false
   },
   "outputs": [
    {
     "name": "stdout",
     "output_type": "stream",
     "text": [
      "Your turn!\n"
     ]
    }
   ],
   "source": [
    "std::cout << \"Your turn!\" << endl;"
   ]
  },
  {
   "cell_type": "code",
   "execution_count": null,
   "metadata": {
    "collapsed": true
   },
   "outputs": [],
   "source": []
  }
 ],
 "metadata": {
  "kernelspec": {
   "display_name": "ROOT C++",
   "language": "c++",
   "name": "root"
  },
  "language_info": {
   "codemirror_mode": "text/x-c++src",
   "file_extension": ".C",
   "mimetype": " text/x-c++src",
   "name": "c++"
  }
 },
 "nbformat": 4,
 "nbformat_minor": 0
}
